{
 "cells": [
  {
   "cell_type": "code",
   "execution_count": 4,
   "id": "962df258",
   "metadata": {},
   "outputs": [
    {
     "name": "stdout",
     "output_type": "stream",
     "text": [
      "Epoch 1/3\n",
      "391/391 [==============================] - 140s 354ms/step - loss: 0.4924 - accuracy: 0.7509\n",
      "Epoch 2/3\n",
      "391/391 [==============================] - 138s 354ms/step - loss: 0.2946 - accuracy: 0.8806\n",
      "Epoch 3/3\n",
      "391/391 [==============================] - 145s 370ms/step - loss: 0.2564 - accuracy: 0.8990\n",
      "Accuracy: 87.90%\n",
      "Sentiment polarity: -1.0\n",
      "The sentiment is negative.\n"
     ]
    }
   ],
   "source": [
    "import numpy as np\n",
    "from textblob import TextBlob\n",
    "from keras.datasets import imdb\n",
    "from keras.models import Sequential\n",
    "from keras.layers import Dense, LSTM, Embedding, SpatialDropout1D\n",
    "from keras.preprocessing import sequence\n",
    "\n",
    "# Load IMDb dataset\n",
    "top_words = 5000\n",
    "max_review_length = 500\n",
    "(X_train, y_train), (X_test, y_test) = imdb.load_data(num_words=top_words)\n",
    "\n",
    "# Pad sequences to the same length\n",
    "X_train = sequence.pad_sequences(X_train, maxlen=max_review_length)\n",
    "X_test = sequence.pad_sequences(X_test, maxlen=max_review_length)\n",
    "\n",
    "# Define the model\n",
    "embedding_vecor_length = 32\n",
    "model = Sequential()\n",
    "model.add(Embedding(top_words, embedding_vecor_length, input_length=max_review_length))\n",
    "model.add(SpatialDropout1D(0.2))\n",
    "model.add(LSTM(100))\n",
    "model.add(Dense(1, activation='sigmoid'))\n",
    "model.compile(loss='binary_crossentropy', optimizer='adam', metrics=['accuracy'])\n",
    "\n",
    "# Train the model\n",
    "model.fit(X_train, y_train, epochs=3, batch_size=64)\n",
    "\n",
    "# Evaluate the model\n",
    "scores = model.evaluate(X_test, y_test, verbose=0)\n",
    "print(\"Accuracy: %.2f%%\" % (scores[1]*100))\n",
    "\n",
    "# Example of sentiment analysis using TextBlob\n",
    "text = \"It is the worst movie ever\"\n",
    "\n",
    "blob = TextBlob(text)\n",
    "sentiment = blob.sentiment.polarity\n",
    "print(\"Sentiment polarity:\", sentiment)\n",
    "if sentiment > 0:\n",
    "    print(\"The sentiment is positive.\")\n",
    "elif sentiment < 0:\n",
    "    print(\"The sentiment is negative.\")\n",
    "else:\n",
    "    print(\"The sentiment is neutral.\")\n"
   ]
  },
  {
   "cell_type": "code",
   "execution_count": 3,
   "id": "ed055f72",
   "metadata": {},
   "outputs": [
    {
     "name": "stdout",
     "output_type": "stream",
     "text": [
      "Model saved successfully.\n"
     ]
    },
    {
     "name": "stderr",
     "output_type": "stream",
     "text": [
      "C:\\Users\\Acer\\anaconda3\\Lib\\site-packages\\keras\\src\\engine\\training.py:3103: UserWarning: You are saving your model as an HDF5 file via `model.save()`. This file format is considered legacy. We recommend using instead the native Keras format, e.g. `model.save('my_model.keras')`.\n",
      "  saving_api.save_model(\n"
     ]
    }
   ],
   "source": [
    "model.save(\"sentiment_analysis_model.h5\")\n",
    "print(\"Model saved successfully.\")"
   ]
  },
  {
   "cell_type": "code",
   "execution_count": 2,
   "id": "9786bb32",
   "metadata": {},
   "outputs": [],
   "source": [
    "#once you save the model you can ascess it from just loading like this "
   ]
  },
  {
   "cell_type": "code",
   "execution_count": null,
   "id": "032f18c0",
   "metadata": {},
   "outputs": [],
   "source": [
    "from keras.models import load_model\n",
    "from textblob import TextBlob\n",
    "\n",
    "# Load the saved model\n",
    "model = load_model('sentiment_analysis_model.h5')\n",
    "\n",
    "# Example of sentiment analysis using the loaded model\n",
    "text = \"it  is the very nice  movie ever\"\n",
    "blob = TextBlob(text)\n",
    "sentiment = blob.sentiment.polarity\n",
    "print(\"Sentiment polarity:\", sentiment)\n",
    "if sentiment > 0:\n",
    "    print(\"The sentiment is positive.\")\n",
    "elif sentiment < 0:\n",
    "    print(\"The sentiment is negative.\")\n",
    "else:\n",
    "    print(\"The sentiment is neutral.\")"
   ]
  }
 ],
 "metadata": {
  "kernelspec": {
   "display_name": "Python 3 (ipykernel)",
   "language": "python",
   "name": "python3"
  },
  "language_info": {
   "codemirror_mode": {
    "name": "ipython",
    "version": 3
   },
   "file_extension": ".py",
   "mimetype": "text/x-python",
   "name": "python",
   "nbconvert_exporter": "python",
   "pygments_lexer": "ipython3",
   "version": "3.11.3"
  }
 },
 "nbformat": 4,
 "nbformat_minor": 5
}
